{
 "cells": [
  {
   "cell_type": "markdown",
   "id": "5610c93e-da95-4b34-b0c9-0fd328f1ba23",
   "metadata": {},
   "source": [
    "# Data Science Tools and Ecosystem"
   ]
  },
  {
   "cell_type": "markdown",
   "id": "5c67b349-8201-4a6a-b768-63db6e6992c9",
   "metadata": {},
   "source": [
    "In this notebook, Data Science Tools and Ecosystem are summarized."
   ]
  },
  {
   "cell_type": "markdown",
   "id": "355fd4d3-91e6-4e59-9331-23be03ca0b81",
   "metadata": {},
   "source": [
    "**Objectives**\n",
    "- List of popular languages for Data Science\n",
    "- List of commonly used libraries in data science\n",
    "- Table of Data Science tools                                  \n",
    "- A code cell to multiply and add numbers\n",
    "- A code cell to convert minutes to hours"
   ]
  },
  {
   "cell_type": "markdown",
   "id": "fb6ee2a6-0d90-4494-9204-1059f8cc5080",
   "metadata": {},
   "source": [
    "Some of the popular languages that Data Scientists use are:\n",
    "1. Python\n",
    "2. R\n",
    "3. SQL\n",
    "4. Julia\n",
    "5. Java"
   ]
  },
  {
   "cell_type": "markdown",
   "id": "a064fbe7-eb9a-4821-8fd1-ec4cd81dfaa7",
   "metadata": {},
   "source": [
    "Some of the commonly used libraries used by Data Scientists include:\n",
    "1. Pandas\n",
    "2. Numpy\n",
    "3. Seaborn\n",
    "4. Scikit-learn\n",
    "5. Matplotlib"
   ]
  },
  {
   "cell_type": "markdown",
   "id": "05bc1fac-29f7-4493-9274-88c3eb6e74b9",
   "metadata": {},
   "source": [
    "| Data Science Tools    | \n",
    "| -------- |\n",
    "| Jupyter Notebooks  | \n",
    "| Pytorch | \n",
    "| MLFlow    |"
   ]
  },
  {
   "cell_type": "markdown",
   "id": "0a4e096a-0768-4aa2-a3ac-43a79d304fb5",
   "metadata": {},
   "source": [
    "### Below are a few examples of evaluating arithmetic expressions in Python"
   ]
  },
  {
   "cell_type": "code",
   "execution_count": 2,
   "id": "e835b9bf-5e6f-4d12-9167-33cb12d236a9",
   "metadata": {},
   "outputs": [
    {
     "data": {
      "text/plain": [
       "17"
      ]
     },
     "execution_count": 2,
     "metadata": {},
     "output_type": "execute_result"
    }
   ],
   "source": [
    "(3*4)+5\n",
    "#  This a simple arithmetic expression to mutiply then add integers"
   ]
  },
  {
   "cell_type": "code",
   "execution_count": 8,
   "id": "0fe6f00c-1a49-4c8a-87c6-aa9244615b94",
   "metadata": {},
   "outputs": [
    {
     "name": "stdin",
     "output_type": "stream",
     "text": [
      "Enter time in minutes 200\n"
     ]
    },
    {
     "name": "stdout",
     "output_type": "stream",
     "text": [
      "Hours= 3\n",
      "Minutes= 20\n"
     ]
    }
   ],
   "source": [
    "min=int(input(\"Enter time in minutes\"))\n",
    "h=min//60\n",
    "m=min%60\n",
    "print(\"Hours=\",h)\n",
    "print(\"Minutes=\",m)\n",
    "#  This will convert 200 minutes to hours by diving by 60"
   ]
  },
  {
   "cell_type": "markdown",
   "id": "c9235f04-f270-4cc2-aac4-292cc5c56adc",
   "metadata": {},
   "source": [
    "## Author\n",
    "Alexandre Rodrigues"
   ]
  }
 ],
 "metadata": {
  "kernelspec": {
   "display_name": "Python 3 (ipykernel)",
   "language": "python",
   "name": "python3"
  },
  "language_info": {
   "codemirror_mode": {
    "name": "ipython",
    "version": 3
   },
   "file_extension": ".py",
   "mimetype": "text/x-python",
   "name": "python",
   "nbconvert_exporter": "python",
   "pygments_lexer": "ipython3",
   "version": "3.12.7"
  }
 },
 "nbformat": 4,
 "nbformat_minor": 5
}
